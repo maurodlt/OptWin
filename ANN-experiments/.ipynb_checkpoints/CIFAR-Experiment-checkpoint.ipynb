{
 "cells": [
  {
   "cell_type": "code",
   "execution_count": 1,
   "id": "7502ce73-d142-473f-98c1-3a70f7e601ee",
   "metadata": {},
   "outputs": [],
   "source": [
    "import tensorflow as tf\n",
    "import time\n",
    "import sys\n",
    "import os\n",
    "import numpy as np\n",
    "from tensorflow.keras import Model, datasets, layers, models\n",
    "import matplotlib.pyplot as plt\n",
    "from tqdm import tqdm\n",
    "import random\n",
    "import pickle\n",
    "from OPTWIN import Optwin_river \n",
    "from river import drift"
   ]
  },
  {
   "cell_type": "markdown",
   "id": "81cae3a3-770f-4f7c-9ba8-705e223ab767",
   "metadata": {},
   "source": [
    "## OPTWIN"
   ]
  },
  {
   "cell_type": "markdown",
   "id": "9cfd32b9-f3da-405c-8c66-c6c9fe1e13e7",
   "metadata": {},
   "source": [
    "### Load pre-calculated OPTWIN cuts"
   ]
  },
  {
   "cell_type": "code",
   "execution_count": 2,
   "id": "96eabe64-598b-417c-9ea2-9f0daa08fde6",
   "metadata": {},
   "outputs": [],
   "source": [
    "OPTWIN_DIR=\"\"\n",
    "FOLDER_TO_CUTS=OPTWIN_DIR+\"/pre_computed_cuts/\"\n",
    "max_samples = 25000\n",
    "w_lenght_min=30\n",
    "rigor = 0.5\n",
    "error = 1e-2\n",
    "confidence_final = 1-error"
   ]
  },
  {
   "cell_type": "code",
   "execution_count": 3,
   "id": "c33d4a1a-ab7c-4510-92bc-f1b86bd48bbf",
   "metadata": {},
   "outputs": [],
   "source": [
    "FILE_TO_CUTS=FOLDER_TO_CUTS+\"cut_\"+str(w_lenght_min)+\"-\"+str(max_samples)+\"_\"+str(error)+\"_\"+str(rigor)+\"r.csv\""
   ]
  },
  {
   "cell_type": "code",
   "execution_count": 4,
   "id": "cc6a6bf1-08b1-43c9-9a9b-7401e0833bc4",
   "metadata": {},
   "outputs": [],
   "source": [
    "samples = max_samples+2\n",
    "\n",
    "with open(FILE_TO_CUTS, \"r\") as f:\n",
    "    # Read the content of the file\n",
    "    content = f.read().split(\",\")\n",
    "\n",
    "# Reconstruct the lists based on the max_samples size\n",
    "offset = 4\n",
    "opt_cut = [int(content[i]) for i in range(offset, offset+samples)]\n",
    "offset += samples\n",
    "opt_phi = [float(content[i]) for i in range(offset, offset+samples)]\n",
    "offset += samples\n",
    "t_stats = [float(content[i]) for i in range(offset, offset+samples)]\n",
    "offset += samples\n",
    "t_stats_warning = [float(content[i]) for i in range(offset, offset+samples)]\n"
   ]
  },
  {
   "cell_type": "code",
   "execution_count": 5,
   "id": "40979f60-e56b-44f0-9e49-fe5dd71b614b",
   "metadata": {
    "tags": []
   },
   "outputs": [],
   "source": [
    "class No_detector():\n",
    "    \n",
    "    def update(self, x):\n",
    "        return self.drift_detected\n",
    "    \n",
    "    def __init__(self, drift=False):\n",
    "        self.drift_detected=drift"
   ]
  },
  {
   "cell_type": "markdown",
   "id": "0d5201ba-568f-4ca4-a05e-70c1c94642bd",
   "metadata": {
    "tags": []
   },
   "source": [
    "# Prepare Data"
   ]
  },
  {
   "cell_type": "code",
   "execution_count": 6,
   "id": "b4b2f391-461b-4503-8f03-332eb8df7b93",
   "metadata": {},
   "outputs": [],
   "source": [
    "BATCH_SIZE=32"
   ]
  },
  {
   "cell_type": "code",
   "execution_count": 7,
   "id": "fdc0f706-da90-4f60-8ef9-61156e719fcb",
   "metadata": {},
   "outputs": [],
   "source": [
    "#Load training data\n",
    "(train_images, train_labels), (test_images, test_labels) = datasets.cifar10.load_data()\n",
    "\n",
    "# Normalize pixel values to be between 0 and 1\n",
    "train_images, test_images = train_images / 255.0, test_images / 255.0"
   ]
  },
  {
   "cell_type": "markdown",
   "id": "9adaeead-30e0-4ef2-9dc6-489022dd2464",
   "metadata": {},
   "source": [
    "### Concept Drift 1"
   ]
  },
  {
   "cell_type": "code",
   "execution_count": 8,
   "id": "cdb75dfd-c17a-4efd-b89e-a315efa65686",
   "metadata": {},
   "outputs": [],
   "source": [
    "train_labels_1 = np.array([np.array([3], dtype=np.uint8) if i == [7] else np.array([7], dtype=np.uint8) if i == [3] else i for i in train_labels])\n",
    "test_labels_1 = np.array([np.array([3], dtype=np.uint8) if i == [7] else np.array([7], dtype=np.uint8) if i == [3] else i for i in test_labels])"
   ]
  },
  {
   "cell_type": "markdown",
   "id": "ea1dd951-05b6-48ce-ae7d-6ca150d4b09c",
   "metadata": {},
   "source": [
    "### Concept Drift 2"
   ]
  },
  {
   "cell_type": "code",
   "execution_count": 9,
   "id": "37f90099-6bd4-4c08-93cf-28809fbae099",
   "metadata": {},
   "outputs": [],
   "source": [
    "train_labels_2 = np.array([np.array([1], dtype=np.uint8) if i == [5] else np.array([5], dtype=np.uint8) if i == [1] else i for i in train_labels])\n",
    "test_labels_2 = np.array([np.array([1], dtype=np.uint8) if i == [5] else np.array([5], dtype=np.uint8) if i == [1] else i for i in test_labels])"
   ]
  },
  {
   "cell_type": "markdown",
   "id": "da5e79d8-c3bd-43c1-b3e1-409437aaf779",
   "metadata": {},
   "source": [
    "### Concept Drift 3"
   ]
  },
  {
   "cell_type": "code",
   "execution_count": 10,
   "id": "c4122b4b-a8dc-4005-b45a-0510b9b9a8d2",
   "metadata": {},
   "outputs": [],
   "source": [
    "train_labels_3 = np.array([np.array([4], dtype=np.uint8) if i == [8] else np.array([8], dtype=np.uint8) if i == [4] else i for i in train_labels])\n",
    "test_labels_3 = np.array([np.array([4], dtype=np.uint8) if i == [8] else np.array([8], dtype=np.uint8) if i == [4] else i for i in test_labels])"
   ]
  },
  {
   "cell_type": "markdown",
   "id": "c4af73df-e5ca-4c4f-b9cb-05435ef5e2ed",
   "metadata": {},
   "source": [
    "### Concept Drift 4"
   ]
  },
  {
   "cell_type": "code",
   "execution_count": 11,
   "id": "09577b92-18bf-4a5a-a8ad-02dd78bd0209",
   "metadata": {},
   "outputs": [],
   "source": [
    "train_labels_4 = np.array([np.array([9], dtype=np.uint8) if i == [6] else np.array([6], dtype=np.uint8) if i == [9] else i for i in train_labels])\n",
    "test_labels_4 = np.array([np.array([9], dtype=np.uint8) if i == [6] else np.array([6], dtype=np.uint8) if i == [9] else i for i in test_labels])"
   ]
  },
  {
   "cell_type": "code",
   "execution_count": 12,
   "id": "4f37bf6c-1e86-4fb3-8da6-5efb0b1e2758",
   "metadata": {},
   "outputs": [],
   "source": [
    "#fit training set to size of mini_batch\n",
    "num_mini_batches_train = int(len(train_images)/BATCH_SIZE)\n",
    "batch_prune_train = num_mini_batches_train*BATCH_SIZE\n",
    "train_images_final = train_images[:batch_prune_train]\n",
    "train_labels_0_final = train_labels[:batch_prune_train]\n",
    "train_labels_1_final = train_labels_1[:batch_prune_train]\n",
    "train_labels_2_final = train_labels_2[:batch_prune_train]\n",
    "train_labels_3_final = train_labels_3[:batch_prune_train]\n",
    "train_labels_4_final = train_labels_4[:batch_prune_train]\n",
    "\n",
    "#fit eval set to size of mini_batch\n",
    "num_mini_batches_test = int(len(test_images)/BATCH_SIZE)\n",
    "batch_prune_test = num_mini_batches_test*BATCH_SIZE\n",
    "test_images_final = test_images[:batch_prune_test]\n",
    "test_labels_0_final = test_labels[:batch_prune_test]\n",
    "test_labels_1_final = test_labels_1[:batch_prune_test]\n",
    "test_labels_2_final = test_labels_2[:batch_prune_test]\n",
    "test_labels_3_final = test_labels_3[:batch_prune_test]\n",
    "test_labels_4_final = test_labels_4[:batch_prune_test]"
   ]
  },
  {
   "cell_type": "code",
   "execution_count": 13,
   "id": "7f366d0c-ba20-428f-9348-70c746641403",
   "metadata": {},
   "outputs": [],
   "source": [
    "#reshape traing set\n",
    "train_images_final = train_images_final.reshape([num_mini_batches_train, BATCH_SIZE, 32, 32, 3])\n",
    "train_labels_0_final = train_labels_0_final.reshape([num_mini_batches_train, BATCH_SIZE, 1])\n",
    "train_labels_1_final = train_labels_1_final.reshape([num_mini_batches_train, BATCH_SIZE, 1])\n",
    "train_labels_2_final = train_labels_2_final.reshape([num_mini_batches_train, BATCH_SIZE, 1])\n",
    "train_labels_3_final = train_labels_3_final.reshape([num_mini_batches_train, BATCH_SIZE, 1])\n",
    "train_labels_4_final = train_labels_4_final.reshape([num_mini_batches_train, BATCH_SIZE, 1])\n",
    "\n",
    "#reshape eval set\n",
    "test_images_final = test_images_final.reshape([num_mini_batches_test, BATCH_SIZE, 32, 32, 3])\n",
    "test_labels_0_final = test_labels_0_final.reshape([num_mini_batches_test, BATCH_SIZE, 1])\n",
    "test_labels_1_final = test_labels_1_final.reshape([num_mini_batches_test, BATCH_SIZE, 1])\n",
    "test_labels_2_final = test_labels_2_final.reshape([num_mini_batches_test, BATCH_SIZE, 1])\n",
    "test_labels_3_final = test_labels_3_final.reshape([num_mini_batches_test, BATCH_SIZE, 1])\n",
    "test_labels_4_final = test_labels_4_final.reshape([num_mini_batches_test, BATCH_SIZE, 1])"
   ]
  },
  {
   "cell_type": "markdown",
   "id": "5bf46e4e-35db-40cc-a8d0-03ff957d1b0b",
   "metadata": {
    "tags": []
   },
   "source": [
    "# Model"
   ]
  },
  {
   "cell_type": "code",
   "execution_count": 14,
   "id": "57284acf-1b61-423a-b2b9-1cd1bfea7ed5",
   "metadata": {},
   "outputs": [],
   "source": [
    "#build model\n",
    "class Cifar(Model):\n",
    "    def __init__(self):\n",
    "        super(Cifar, self).__init__()\n",
    "        self.l1 = layers.Conv2D(32, (3, 3), activation='relu', input_shape=(32, 32, 3))\n",
    "        self.l2 = layers.MaxPooling2D((2, 2))\n",
    "        self.l3 = layers.Conv2D(64, (3, 3), activation='relu')\n",
    "        self.l4 = layers.MaxPooling2D((2, 2))\n",
    "        self.l5 = layers.Conv2D(64, (3, 3), activation='relu')\n",
    "        self.l6 = layers.Flatten()\n",
    "        self.l7 = layers.Dense(64, activation='relu')\n",
    "        self.l8 = layers.Dense(10)\n",
    "\n",
    "    def call(self, x):\n",
    "        x = self.l1(x)\n",
    "        x = self.l2(x)\n",
    "        x = self.l3(x)\n",
    "        x = self.l4(x)\n",
    "        x = self.l5(x)\n",
    "        x = self.l6(x)\n",
    "        x = self.l7(x)\n",
    "        x = self.l8(x)\n",
    "        return x"
   ]
  },
  {
   "cell_type": "markdown",
   "id": "b51cb557-a37a-4614-a36f-9973e0694315",
   "metadata": {
    "tags": []
   },
   "source": [
    "# Run multiple instances of training"
   ]
  },
  {
   "cell_type": "markdown",
   "id": "6201530a-f086-44f6-aef9-75552e693f62",
   "metadata": {
    "tags": []
   },
   "source": [
    "### Fine-tune"
   ]
  },
  {
   "cell_type": "code",
   "execution_count": 15,
   "id": "f2e4b161-f15d-4f21-b7f3-dcf430da8214",
   "metadata": {},
   "outputs": [],
   "source": [
    "train_labels_list=[train_labels_0_final,train_labels_1_final,train_labels_2_final,train_labels_3_final,train_labels_4_final]\n",
    "test_labels_list=[test_labels,test_labels_1,test_labels_2,test_labels_3,test_labels_4]"
   ]
  },
  {
   "cell_type": "code",
   "execution_count": 16,
   "id": "c5a98085-ed8a-4c78-8341-a43f2a2a626f",
   "metadata": {},
   "outputs": [],
   "source": [
    "def fine_tune_cifar(model, drift_detector, epochs, epochs_fine_tune, train_images, train_labels_list, test_images, test_labels_list):\n",
    "    #copy model\n",
    "    model_copy = Cifar()\n",
    "    model_copy.compile(optimizer=tf.keras.optimizers.Adam(),\n",
    "              loss=tf.keras.losses.SparseCategoricalCrossentropy(from_logits=True),\n",
    "              metrics=['accuracy'],\n",
    "              experimental_run_tf_function=False)\n",
    "    model_copy.build((None, 32, 32, 3))\n",
    "    model_copy.set_weights(model.get_weights())\n",
    "    \n",
    "    #fine-tune model_copy\n",
    "    current_labels_idx = 0\n",
    "    last_labels_idx = 0\n",
    "    epochs_per_drift = int(epochs/len(train_labels_list))\n",
    "    count = 0\n",
    "    instances_fine_tune = 0\n",
    "    losses = []\n",
    "    accs = []\n",
    "    drifts = []\n",
    "    evaluation = []\n",
    "    training_instances = 0\n",
    "    time_per_epoch = []\n",
    "    itt = 0\n",
    "    real_drift = []\n",
    "    time_drift_detector = []\n",
    "    \n",
    "    #start fine-tuning\n",
    "    for e in tqdm(range(epochs)):\n",
    "        time_start = time.time()\n",
    "        current_labels_idx = int(e/epochs_per_drift) #change labels (generate drift) every epochs_per_drift epochs\n",
    "        evaluation.append([e,model_copy.evaluate(test_images, test_labels_list[current_labels_idx],batch_size=32,verbose=0)])\n",
    "        \n",
    "        training_examples = list(zip(train_images, train_labels_list[current_labels_idx]))\n",
    "        random.seed(e)\n",
    "        random.shuffle(training_examples)\n",
    "        \n",
    "        for images,labels in training_examples:\n",
    "        #for images,labels in zip(train_images, train_labels_list[current_labels_idx]):\n",
    "            \n",
    "            #train (during drift adaptation)\n",
    "            if instances_fine_tune > 0: \n",
    "                instances_fine_tune -= 1\n",
    "                training_instances += 1\n",
    "                loss, acc = model_copy.train_on_batch(images, labels)\n",
    "                \n",
    "            #test (no drift)\n",
    "            else: \n",
    "                loss, acc = model_copy.test_on_batch(images, labels)\n",
    "            \n",
    "            #normalize loss for ADWIN\n",
    "            if isinstance(drift_detector, drift.adwin.ADWIN):\n",
    "                loss_scaled = loss/16.12\n",
    "                if loss_scaled > 1:\n",
    "                    loss_scaled = 1\n",
    "            else:\n",
    "                loss_scaled = loss\n",
    "            \n",
    "            time_start_drift_detector=time.time()\n",
    "            drift_detector.update(loss_scaled)\n",
    "            time_drift_detector.append(time.time()-time_start_drift_detector)\n",
    "            \n",
    "            if drift_detector.drift_detected:\n",
    "                drifts.append(itt)\n",
    "                instances_fine_tune = len(train_images) * epochs_fine_tune\n",
    "\n",
    "            #check for real drift\n",
    "            if current_labels_idx != last_labels_idx: \n",
    "                real_drift.append(itt)\n",
    "                last_labels_idx = current_labels_idx\n",
    "                \n",
    "            losses.append(loss)\n",
    "            accs.append(acc)\n",
    "            count += 1\n",
    "            itt += 1\n",
    "        count = 0\n",
    "        evaluation.append([e,model_copy.evaluate(test_images, test_labels_list[current_labels_idx],batch_size=32,verbose=0)])\n",
    "        time_per_epoch.append([e , time.time() - time_start])\n",
    "        \n",
    "        \n",
    "    #detect true and false positives\n",
    "    tp = []\n",
    "    fp = []\n",
    "    for d in range(len(drifts)):\n",
    "        drift_positive = False\n",
    "        for rd in range(len(real_drift)):\n",
    "            if d == 0:\n",
    "                if len(real_drift) == rd+1: \n",
    "                    if drifts[d] >= real_drift[rd] and drifts[d] < real_drift[rd+1]:\n",
    "                        drift_positive = True\n",
    "                else:\n",
    "                    if drifts[d] >= real_drift[rd]:\n",
    "                        drift_positive = True\n",
    "                    \n",
    "            else:\n",
    "                if len(real_drift) == rd+1: \n",
    "                    if drifts[d] >= real_drift[rd] and drifts[d-1] < real_drift[rd]:\n",
    "                        drift_positive = True\n",
    "\n",
    "                else:\n",
    "                    if drifts[d] >= real_drift[rd] and drifts[d] < real_drift[rd+1] and drifts[d-1] < real_drift[rd]:\n",
    "                        drift_positive = True\n",
    "            \n",
    "        if drift_positive:\n",
    "            tp.append(drifts[d])\n",
    "        else:\n",
    "            fp.append(drifts[d])\n",
    "        \n",
    "        \n",
    "        \n",
    "    \n",
    "    return drifts, losses, accs, evaluation, training_instances, time_per_epoch, real_drift, time_drift_detector, tp, fp\n",
    "    "
   ]
  },
  {
   "cell_type": "code",
   "execution_count": 17,
   "id": "9e419b8a-84a9-4dfe-a7e3-6ab77752a23a",
   "metadata": {},
   "outputs": [],
   "source": [
    "def test(epochs_training, epochs, epochs_fine_tune):\n",
    "    train_labels_list=[train_labels_0_final,train_labels_1_final,train_labels_2_final,train_labels_3_final,train_labels_4_final]\n",
    "    test_labels_list=[test_labels,test_labels_1,test_labels_2,test_labels_3,test_labels_4]\n",
    "\n",
    "    \n",
    "    cifar = Cifar()\n",
    "    cifar.compile(optimizer=tf.keras.optimizers.Adam(),\n",
    "                  loss=tf.keras.losses.SparseCategoricalCrossentropy(from_logits=True),\n",
    "                  metrics=['accuracy'],\n",
    "                  experimental_run_tf_function=False)\n",
    "    \n",
    "    # Pre-train model\n",
    "    history = cifar.fit(train_images, train_labels, batch_size=512, epochs=epochs_training, \n",
    "                        validation_data=(test_images, test_labels),verbose=1, shuffle=True)\n",
    "    \n",
    "    opt = Optwin_river(w_lenght_max=max_samples+1, w_lenght_min=w_lenght_min+1, rigor = rigor, confidence_final=confidence_final, opt_cut=opt_cut, opt_phi=opt_phi, t_stats=t_stats, t_stats_warning=t_stats_warning)\n",
    "    results_optwin = fine_tune_cifar(cifar, opt, epochs, epochs_fine_tune, train_images_final, train_labels_list, test_images, test_labels_list)\n",
    "    \n",
    "    adwin = drift.ADWIN()\n",
    "    results_adwin = fine_tune_cifar(cifar, adwin, epochs, epochs_fine_tune, train_images_final, train_labels_list, test_images, test_labels_list)\n",
    "    \n",
    "    no_detector = No_detector()\n",
    "    results_no = fine_tune_cifar(cifar, no_detector, epochs, epochs_fine_tune, train_images_final, train_labels_list, test_images, test_labels_list)     \n",
    "    \n",
    "    return results_optwin, results_adwin, results_no, history"
   ]
  },
  {
   "cell_type": "code",
   "execution_count": 18,
   "id": "6a64fbaf-39c9-4c63-bf79-a3c8087d1b72",
   "metadata": {
    "tags": []
   },
   "outputs": [
    {
     "name": "stdout",
     "output_type": "stream",
     "text": [
      "Epoch 1/50\n"
     ]
    },
    {
     "name": "stderr",
     "output_type": "stream",
     "text": [
      "2024-03-08 16:10:34.970910: W tensorflow/core/platform/profile_utils/cpu_utils.cc:128] Failed to get CPU frequency: 0 Hz\n"
     ]
    },
    {
     "name": "stdout",
     "output_type": "stream",
     "text": [
      "98/98 [==============================] - 9s 87ms/step - loss: 1.9080 - accuracy: 0.2999 - val_loss: 1.6407 - val_accuracy: 0.4165\n",
      "Epoch 2/50\n",
      "98/98 [==============================] - 8s 85ms/step - loss: 1.5301 - accuracy: 0.4509 - val_loss: 1.4284 - val_accuracy: 0.4890\n",
      "Epoch 3/50\n",
      "98/98 [==============================] - 8s 83ms/step - loss: 1.4009 - accuracy: 0.4986 - val_loss: 1.3938 - val_accuracy: 0.5033\n",
      "Epoch 4/50\n",
      "98/98 [==============================] - 8s 86ms/step - loss: 1.3153 - accuracy: 0.5362 - val_loss: 1.3017 - val_accuracy: 0.5356\n",
      "Epoch 5/50\n",
      "98/98 [==============================] - 8s 84ms/step - loss: 1.2542 - accuracy: 0.5571 - val_loss: 1.2401 - val_accuracy: 0.5603\n",
      "Epoch 6/50\n",
      "98/98 [==============================] - 8s 86ms/step - loss: 1.2026 - accuracy: 0.5790 - val_loss: 1.2051 - val_accuracy: 0.5726\n",
      "Epoch 7/50\n",
      "98/98 [==============================] - 8s 84ms/step - loss: 1.1502 - accuracy: 0.5959 - val_loss: 1.1398 - val_accuracy: 0.5959\n",
      "Epoch 8/50\n",
      "98/98 [==============================] - 9s 89ms/step - loss: 1.1134 - accuracy: 0.6107 - val_loss: 1.1113 - val_accuracy: 0.6039\n",
      "Epoch 9/50\n",
      "98/98 [==============================] - 9s 89ms/step - loss: 1.0752 - accuracy: 0.6261 - val_loss: 1.0885 - val_accuracy: 0.6185\n",
      "Epoch 10/50\n",
      "98/98 [==============================] - 9s 90ms/step - loss: 1.0405 - accuracy: 0.6370 - val_loss: 1.1250 - val_accuracy: 0.5996\n",
      "Epoch 11/50\n",
      "98/98 [==============================] - 8s 87ms/step - loss: 1.0143 - accuracy: 0.6493 - val_loss: 1.0334 - val_accuracy: 0.6389\n",
      "Epoch 12/50\n",
      "98/98 [==============================] - 8s 85ms/step - loss: 0.9763 - accuracy: 0.6611 - val_loss: 1.0020 - val_accuracy: 0.6515\n",
      "Epoch 13/50\n",
      "98/98 [==============================] - 9s 89ms/step - loss: 0.9628 - accuracy: 0.6659 - val_loss: 0.9995 - val_accuracy: 0.6546\n",
      "Epoch 14/50\n",
      "98/98 [==============================] - 9s 91ms/step - loss: 0.9419 - accuracy: 0.6734 - val_loss: 0.9842 - val_accuracy: 0.6560\n",
      "Epoch 15/50\n",
      "98/98 [==============================] - 9s 88ms/step - loss: 0.9272 - accuracy: 0.6783 - val_loss: 0.9865 - val_accuracy: 0.6582\n",
      "Epoch 16/50\n",
      "98/98 [==============================] - 8s 85ms/step - loss: 0.9039 - accuracy: 0.6876 - val_loss: 0.9671 - val_accuracy: 0.6594\n",
      "Epoch 17/50\n",
      "98/98 [==============================] - 9s 87ms/step - loss: 0.8865 - accuracy: 0.6938 - val_loss: 0.9649 - val_accuracy: 0.6611\n",
      "Epoch 18/50\n",
      "98/98 [==============================] - 8s 84ms/step - loss: 0.8681 - accuracy: 0.6992 - val_loss: 0.9426 - val_accuracy: 0.6698\n",
      "Epoch 19/50\n",
      "98/98 [==============================] - 8s 84ms/step - loss: 0.8550 - accuracy: 0.7029 - val_loss: 0.9351 - val_accuracy: 0.6742\n",
      "Epoch 20/50\n",
      "98/98 [==============================] - 8s 84ms/step - loss: 0.8412 - accuracy: 0.7096 - val_loss: 0.9141 - val_accuracy: 0.6826\n",
      "Epoch 21/50\n",
      "98/98 [==============================] - 8s 84ms/step - loss: 0.8245 - accuracy: 0.7147 - val_loss: 0.9298 - val_accuracy: 0.6781\n",
      "Epoch 22/50\n",
      "98/98 [==============================] - 8s 86ms/step - loss: 0.8152 - accuracy: 0.7180 - val_loss: 0.9265 - val_accuracy: 0.6831\n",
      "Epoch 23/50\n",
      "98/98 [==============================] - 8s 83ms/step - loss: 0.7922 - accuracy: 0.7281 - val_loss: 0.9146 - val_accuracy: 0.6794\n",
      "Epoch 24/50\n",
      "98/98 [==============================] - 8s 82ms/step - loss: 0.7892 - accuracy: 0.7269 - val_loss: 0.9003 - val_accuracy: 0.6884\n",
      "Epoch 25/50\n",
      "98/98 [==============================] - 8s 82ms/step - loss: 0.7712 - accuracy: 0.7344 - val_loss: 0.8862 - val_accuracy: 0.6940\n",
      "Epoch 26/50\n",
      "98/98 [==============================] - 8s 83ms/step - loss: 0.7613 - accuracy: 0.7384 - val_loss: 0.8894 - val_accuracy: 0.6923\n",
      "Epoch 27/50\n",
      "98/98 [==============================] - 16s 160ms/step - loss: 0.7545 - accuracy: 0.7384 - val_loss: 0.8755 - val_accuracy: 0.6982\n",
      "Epoch 28/50\n",
      "98/98 [==============================] - 8s 84ms/step - loss: 0.7418 - accuracy: 0.7426 - val_loss: 0.9104 - val_accuracy: 0.6830\n",
      "Epoch 29/50\n",
      "98/98 [==============================] - 8s 85ms/step - loss: 0.7328 - accuracy: 0.7460 - val_loss: 0.8810 - val_accuracy: 0.6950\n",
      "Epoch 30/50\n",
      "98/98 [==============================] - 10s 106ms/step - loss: 0.7201 - accuracy: 0.7509 - val_loss: 0.8945 - val_accuracy: 0.6965\n",
      "Epoch 31/50\n",
      "98/98 [==============================] - 9s 90ms/step - loss: 0.7118 - accuracy: 0.7541 - val_loss: 0.8863 - val_accuracy: 0.6974\n",
      "Epoch 32/50\n",
      "98/98 [==============================] - 9s 92ms/step - loss: 0.7044 - accuracy: 0.7560 - val_loss: 0.8870 - val_accuracy: 0.6959\n",
      "Epoch 33/50\n",
      "98/98 [==============================] - 9s 87ms/step - loss: 0.6804 - accuracy: 0.7649 - val_loss: 0.8605 - val_accuracy: 0.7065\n",
      "Epoch 34/50\n",
      "98/98 [==============================] - 9s 90ms/step - loss: 0.6737 - accuracy: 0.7652 - val_loss: 0.8541 - val_accuracy: 0.7078\n",
      "Epoch 35/50\n",
      "98/98 [==============================] - 8s 85ms/step - loss: 0.6621 - accuracy: 0.7711 - val_loss: 0.8754 - val_accuracy: 0.7023\n",
      "Epoch 36/50\n",
      "98/98 [==============================] - 9s 87ms/step - loss: 0.6609 - accuracy: 0.7710 - val_loss: 0.8500 - val_accuracy: 0.7112\n",
      "Epoch 37/50\n",
      "98/98 [==============================] - 8s 85ms/step - loss: 0.6526 - accuracy: 0.7755 - val_loss: 0.8864 - val_accuracy: 0.7005\n",
      "Epoch 38/50\n",
      "98/98 [==============================] - 8s 85ms/step - loss: 0.6447 - accuracy: 0.7769 - val_loss: 0.8644 - val_accuracy: 0.7066\n",
      "Epoch 39/50\n",
      "98/98 [==============================] - 8s 84ms/step - loss: 0.6206 - accuracy: 0.7850 - val_loss: 0.8599 - val_accuracy: 0.7085\n",
      "Epoch 40/50\n",
      "98/98 [==============================] - 9s 88ms/step - loss: 0.6170 - accuracy: 0.7860 - val_loss: 0.8535 - val_accuracy: 0.7102\n",
      "Epoch 41/50\n",
      "98/98 [==============================] - 8s 86ms/step - loss: 0.6088 - accuracy: 0.7899 - val_loss: 0.8470 - val_accuracy: 0.7132\n",
      "Epoch 42/50\n",
      "98/98 [==============================] - 8s 84ms/step - loss: 0.6019 - accuracy: 0.7912 - val_loss: 0.8849 - val_accuracy: 0.7093\n",
      "Epoch 43/50\n",
      "98/98 [==============================] - 8s 85ms/step - loss: 0.5919 - accuracy: 0.7940 - val_loss: 0.8527 - val_accuracy: 0.7137\n",
      "Epoch 44/50\n",
      "98/98 [==============================] - 8s 85ms/step - loss: 0.5806 - accuracy: 0.7988 - val_loss: 0.8897 - val_accuracy: 0.7057\n",
      "Epoch 45/50\n",
      "98/98 [==============================] - 8s 84ms/step - loss: 0.5766 - accuracy: 0.8013 - val_loss: 0.8917 - val_accuracy: 0.7075\n",
      "Epoch 46/50\n",
      "98/98 [==============================] - 8s 86ms/step - loss: 0.5781 - accuracy: 0.7976 - val_loss: 0.8910 - val_accuracy: 0.7062\n",
      "Epoch 47/50\n",
      "98/98 [==============================] - 8s 85ms/step - loss: 0.5600 - accuracy: 0.8045 - val_loss: 0.8746 - val_accuracy: 0.7147\n",
      "Epoch 48/50\n",
      "98/98 [==============================] - 8s 86ms/step - loss: 0.5575 - accuracy: 0.8080 - val_loss: 0.8904 - val_accuracy: 0.7104\n",
      "Epoch 49/50\n",
      "98/98 [==============================] - 9s 91ms/step - loss: 0.5429 - accuracy: 0.8125 - val_loss: 0.8826 - val_accuracy: 0.7077\n",
      "Epoch 50/50\n",
      "98/98 [==============================] - 9s 90ms/step - loss: 0.5381 - accuracy: 0.8130 - val_loss: 0.8969 - val_accuracy: 0.7037\n"
     ]
    },
    {
     "name": "stderr",
     "output_type": "stream",
     "text": [
      "100%|███████████████████████████████████████████████████████████████████████████████████████████████████████| 100/100 [14:58<00:00,  8.98s/it]\n",
      "100%|███████████████████████████████████████████████████████████████████████████████████████████████████████| 100/100 [17:43<00:00, 10.63s/it]\n",
      "100%|███████████████████████████████████████████████████████████████████████████████████████████████████████| 100/100 [12:49<00:00,  7.69s/it]\n"
     ]
    },
    {
     "name": "stdout",
     "output_type": "stream",
     "text": [
      "Epoch 1/50\n",
      "98/98 [==============================] - 10s 87ms/step - loss: 1.8831 - accuracy: 0.3120 - val_loss: 1.6109 - val_accuracy: 0.4174\n",
      "Epoch 2/50\n",
      "98/98 [==============================] - 9s 93ms/step - loss: 1.5268 - accuracy: 0.4482 - val_loss: 1.4424 - val_accuracy: 0.4808\n",
      "Epoch 3/50\n",
      "98/98 [==============================] - 9s 94ms/step - loss: 1.3934 - accuracy: 0.5020 - val_loss: 1.3442 - val_accuracy: 0.5154\n",
      "Epoch 4/50\n",
      "98/98 [==============================] - 9s 90ms/step - loss: 1.2994 - accuracy: 0.5390 - val_loss: 1.2876 - val_accuracy: 0.5406\n",
      "Epoch 5/50\n",
      "98/98 [==============================] - 9s 94ms/step - loss: 1.2424 - accuracy: 0.5610 - val_loss: 1.2268 - val_accuracy: 0.5592\n",
      "Epoch 6/50\n",
      "98/98 [==============================] - 8s 86ms/step - loss: 1.1890 - accuracy: 0.5811 - val_loss: 1.1783 - val_accuracy: 0.5863\n",
      "Epoch 7/50\n",
      "98/98 [==============================] - 9s 89ms/step - loss: 1.1323 - accuracy: 0.6023 - val_loss: 1.1432 - val_accuracy: 0.5981\n",
      "Epoch 8/50\n",
      "98/98 [==============================] - 9s 88ms/step - loss: 1.0852 - accuracy: 0.6214 - val_loss: 1.0966 - val_accuracy: 0.6141\n",
      "Epoch 9/50\n",
      "98/98 [==============================] - 9s 87ms/step - loss: 1.0509 - accuracy: 0.6333 - val_loss: 1.0662 - val_accuracy: 0.6264\n",
      "Epoch 10/50\n",
      "98/98 [==============================] - 9s 94ms/step - loss: 1.0219 - accuracy: 0.6435 - val_loss: 1.0952 - val_accuracy: 0.6168\n",
      "Epoch 11/50\n",
      "98/98 [==============================] - 9s 91ms/step - loss: 0.9997 - accuracy: 0.6504 - val_loss: 1.0377 - val_accuracy: 0.6319\n",
      "Epoch 12/50\n",
      "98/98 [==============================] - 9s 97ms/step - loss: 0.9605 - accuracy: 0.6653 - val_loss: 0.9950 - val_accuracy: 0.6525\n",
      "Epoch 13/50\n",
      "98/98 [==============================] - 9s 91ms/step - loss: 0.9431 - accuracy: 0.6709 - val_loss: 1.0114 - val_accuracy: 0.6526\n",
      "Epoch 14/50\n",
      "98/98 [==============================] - 9s 88ms/step - loss: 0.9202 - accuracy: 0.6828 - val_loss: 1.0155 - val_accuracy: 0.6461\n",
      "Epoch 15/50\n",
      "98/98 [==============================] - 9s 88ms/step - loss: 0.9131 - accuracy: 0.6807 - val_loss: 0.9471 - val_accuracy: 0.6700\n",
      "Epoch 16/50\n",
      "98/98 [==============================] - 9s 89ms/step - loss: 0.8822 - accuracy: 0.6932 - val_loss: 0.9736 - val_accuracy: 0.6647\n",
      "Epoch 17/50\n",
      "98/98 [==============================] - 8s 86ms/step - loss: 0.8612 - accuracy: 0.7024 - val_loss: 0.9514 - val_accuracy: 0.6731\n",
      "Epoch 18/50\n",
      "98/98 [==============================] - 9s 92ms/step - loss: 0.8467 - accuracy: 0.7090 - val_loss: 0.9563 - val_accuracy: 0.6686\n",
      "Epoch 19/50\n",
      "98/98 [==============================] - 9s 92ms/step - loss: 0.8306 - accuracy: 0.7147 - val_loss: 0.9136 - val_accuracy: 0.6834\n",
      "Epoch 20/50\n",
      "98/98 [==============================] - 8s 86ms/step - loss: 0.8176 - accuracy: 0.7170 - val_loss: 0.9264 - val_accuracy: 0.6801\n",
      "Epoch 21/50\n",
      "98/98 [==============================] - 9s 88ms/step - loss: 0.8042 - accuracy: 0.7213 - val_loss: 0.9458 - val_accuracy: 0.6729\n",
      "Epoch 22/50\n",
      "98/98 [==============================] - 9s 90ms/step - loss: 0.7892 - accuracy: 0.7279 - val_loss: 0.8990 - val_accuracy: 0.6925\n",
      "Epoch 23/50\n",
      "98/98 [==============================] - 9s 92ms/step - loss: 0.7788 - accuracy: 0.7314 - val_loss: 0.9080 - val_accuracy: 0.6920\n",
      "Epoch 24/50\n",
      "98/98 [==============================] - 9s 95ms/step - loss: 0.7635 - accuracy: 0.7367 - val_loss: 0.8848 - val_accuracy: 0.6940\n",
      "Epoch 25/50\n",
      "98/98 [==============================] - 9s 92ms/step - loss: 0.7435 - accuracy: 0.7438 - val_loss: 0.8710 - val_accuracy: 0.7058\n",
      "Epoch 26/50\n",
      "98/98 [==============================] - 9s 88ms/step - loss: 0.7365 - accuracy: 0.7463 - val_loss: 0.8710 - val_accuracy: 0.7025\n",
      "Epoch 27/50\n",
      "98/98 [==============================] - 9s 90ms/step - loss: 0.7255 - accuracy: 0.7482 - val_loss: 0.8722 - val_accuracy: 0.7012\n",
      "Epoch 28/50\n",
      "98/98 [==============================] - 9s 89ms/step - loss: 0.7151 - accuracy: 0.7518 - val_loss: 0.8756 - val_accuracy: 0.7064\n",
      "Epoch 29/50\n",
      "98/98 [==============================] - 9s 87ms/step - loss: 0.7071 - accuracy: 0.7553 - val_loss: 0.8732 - val_accuracy: 0.7026\n",
      "Epoch 30/50\n",
      "98/98 [==============================] - 9s 90ms/step - loss: 0.6935 - accuracy: 0.7590 - val_loss: 0.8919 - val_accuracy: 0.6950\n",
      "Epoch 31/50\n",
      "98/98 [==============================] - 8s 87ms/step - loss: 0.6818 - accuracy: 0.7628 - val_loss: 0.8626 - val_accuracy: 0.7055\n",
      "Epoch 32/50\n",
      "98/98 [==============================] - 9s 87ms/step - loss: 0.6854 - accuracy: 0.7617 - val_loss: 0.8775 - val_accuracy: 0.7065\n",
      "Epoch 33/50\n",
      "98/98 [==============================] - 8s 87ms/step - loss: 0.6578 - accuracy: 0.7725 - val_loss: 0.8590 - val_accuracy: 0.7095\n",
      "Epoch 34/50\n",
      "98/98 [==============================] - 8s 86ms/step - loss: 0.6598 - accuracy: 0.7691 - val_loss: 0.8592 - val_accuracy: 0.7093\n",
      "Epoch 35/50\n",
      "98/98 [==============================] - 9s 88ms/step - loss: 0.6376 - accuracy: 0.7805 - val_loss: 0.8371 - val_accuracy: 0.7149\n",
      "Epoch 36/50\n",
      "98/98 [==============================] - 8s 86ms/step - loss: 0.6359 - accuracy: 0.7795 - val_loss: 0.8804 - val_accuracy: 0.7074\n",
      "Epoch 37/50\n",
      "98/98 [==============================] - 8s 87ms/step - loss: 0.6218 - accuracy: 0.7856 - val_loss: 0.8478 - val_accuracy: 0.7140\n",
      "Epoch 38/50\n",
      "98/98 [==============================] - 8s 85ms/step - loss: 0.6119 - accuracy: 0.7897 - val_loss: 0.8415 - val_accuracy: 0.7148\n",
      "Epoch 39/50\n",
      "98/98 [==============================] - 8s 85ms/step - loss: 0.6040 - accuracy: 0.7923 - val_loss: 0.8746 - val_accuracy: 0.7056\n",
      "Epoch 40/50\n",
      "98/98 [==============================] - 9s 87ms/step - loss: 0.5956 - accuracy: 0.7950 - val_loss: 0.8521 - val_accuracy: 0.7151\n",
      "Epoch 41/50\n",
      "98/98 [==============================] - 9s 91ms/step - loss: 0.5848 - accuracy: 0.7982 - val_loss: 0.8533 - val_accuracy: 0.7129\n",
      "Epoch 42/50\n",
      "98/98 [==============================] - 9s 94ms/step - loss: 0.5825 - accuracy: 0.7977 - val_loss: 0.8480 - val_accuracy: 0.7192\n",
      "Epoch 43/50\n",
      "98/98 [==============================] - 9s 89ms/step - loss: 0.5732 - accuracy: 0.8015 - val_loss: 0.8478 - val_accuracy: 0.7183\n",
      "Epoch 44/50\n",
      "98/98 [==============================] - 8s 85ms/step - loss: 0.5584 - accuracy: 0.8078 - val_loss: 0.8847 - val_accuracy: 0.7084\n",
      "Epoch 45/50\n",
      "98/98 [==============================] - 8s 84ms/step - loss: 0.5476 - accuracy: 0.8117 - val_loss: 0.8769 - val_accuracy: 0.7115\n",
      "Epoch 46/50\n",
      "98/98 [==============================] - 8s 84ms/step - loss: 0.5417 - accuracy: 0.8138 - val_loss: 0.8601 - val_accuracy: 0.7137\n",
      "Epoch 47/50\n",
      "98/98 [==============================] - 8s 84ms/step - loss: 0.5353 - accuracy: 0.8158 - val_loss: 0.8426 - val_accuracy: 0.7239\n",
      "Epoch 48/50\n",
      "98/98 [==============================] - 8s 86ms/step - loss: 0.5295 - accuracy: 0.8178 - val_loss: 0.8732 - val_accuracy: 0.7166\n",
      "Epoch 49/50\n",
      "98/98 [==============================] - 8s 84ms/step - loss: 0.5206 - accuracy: 0.8199 - val_loss: 0.8874 - val_accuracy: 0.7132\n",
      "Epoch 50/50\n",
      "98/98 [==============================] - 9s 87ms/step - loss: 0.5114 - accuracy: 0.8212 - val_loss: 0.8930 - val_accuracy: 0.7130\n"
     ]
    },
    {
     "name": "stderr",
     "output_type": "stream",
     "text": [
      "100%|███████████████████████████████████████████████████████████████████████████████████████████████████████| 100/100 [13:54<00:00,  8.35s/it]\n",
      "100%|███████████████████████████████████████████████████████████████████████████████████████████████████████| 100/100 [17:09<00:00, 10.29s/it]\n",
      "100%|███████████████████████████████████████████████████████████████████████████████████████████████████████| 100/100 [11:50<00:00,  7.11s/it]\n"
     ]
    },
    {
     "name": "stdout",
     "output_type": "stream",
     "text": [
      "Epoch 1/50\n",
      "98/98 [==============================] - 9s 88ms/step - loss: 1.9112 - accuracy: 0.3026 - val_loss: 1.6363 - val_accuracy: 0.4028\n",
      "Epoch 2/50\n",
      "98/98 [==============================] - 9s 88ms/step - loss: 1.5347 - accuracy: 0.4458 - val_loss: 1.4315 - val_accuracy: 0.4812\n",
      "Epoch 3/50\n",
      "98/98 [==============================] - 9s 91ms/step - loss: 1.3801 - accuracy: 0.5080 - val_loss: 1.4142 - val_accuracy: 0.4944\n",
      "Epoch 4/50\n",
      "98/98 [==============================] - 9s 89ms/step - loss: 1.2962 - accuracy: 0.5406 - val_loss: 1.2580 - val_accuracy: 0.5572\n",
      "Epoch 5/50\n",
      "98/98 [==============================] - 9s 89ms/step - loss: 1.2305 - accuracy: 0.5655 - val_loss: 1.2078 - val_accuracy: 0.5718\n",
      "Epoch 6/50\n",
      "98/98 [==============================] - 9s 93ms/step - loss: 1.1735 - accuracy: 0.5879 - val_loss: 1.1875 - val_accuracy: 0.5729\n",
      "Epoch 7/50\n",
      "98/98 [==============================] - 9s 96ms/step - loss: 1.1336 - accuracy: 0.6033 - val_loss: 1.1151 - val_accuracy: 0.6110\n",
      "Epoch 8/50\n",
      "98/98 [==============================] - 9s 93ms/step - loss: 1.1001 - accuracy: 0.6126 - val_loss: 1.1038 - val_accuracy: 0.6036\n",
      "Epoch 9/50\n",
      "98/98 [==============================] - 9s 94ms/step - loss: 1.0607 - accuracy: 0.6281 - val_loss: 1.0555 - val_accuracy: 0.6300\n",
      "Epoch 10/50\n",
      "98/98 [==============================] - 9s 93ms/step - loss: 1.0382 - accuracy: 0.6383 - val_loss: 1.0415 - val_accuracy: 0.6309\n",
      "Epoch 11/50\n",
      "98/98 [==============================] - 9s 92ms/step - loss: 0.9970 - accuracy: 0.6509 - val_loss: 1.0211 - val_accuracy: 0.6438\n",
      "Epoch 12/50\n",
      "98/98 [==============================] - 9s 94ms/step - loss: 0.9775 - accuracy: 0.6587 - val_loss: 1.0172 - val_accuracy: 0.6419\n",
      "Epoch 13/50\n",
      "98/98 [==============================] - 9s 88ms/step - loss: 0.9508 - accuracy: 0.6672 - val_loss: 1.0955 - val_accuracy: 0.6243\n",
      "Epoch 14/50\n",
      "98/98 [==============================] - 10s 97ms/step - loss: 0.9298 - accuracy: 0.6744 - val_loss: 0.9814 - val_accuracy: 0.6623\n",
      "Epoch 15/50\n",
      "98/98 [==============================] - 9s 95ms/step - loss: 0.9132 - accuracy: 0.6837 - val_loss: 1.0007 - val_accuracy: 0.6542\n",
      "Epoch 16/50\n",
      "98/98 [==============================] - 9s 89ms/step - loss: 0.8885 - accuracy: 0.6924 - val_loss: 0.9411 - val_accuracy: 0.6751\n",
      "Epoch 17/50\n",
      "98/98 [==============================] - 8s 87ms/step - loss: 0.8634 - accuracy: 0.6999 - val_loss: 0.9958 - val_accuracy: 0.6503\n",
      "Epoch 18/50\n",
      "98/98 [==============================] - 9s 95ms/step - loss: 0.8540 - accuracy: 0.7019 - val_loss: 0.9422 - val_accuracy: 0.6693\n",
      "Epoch 19/50\n",
      "98/98 [==============================] - 9s 89ms/step - loss: 0.8326 - accuracy: 0.7111 - val_loss: 0.9268 - val_accuracy: 0.6801\n",
      "Epoch 20/50\n",
      "98/98 [==============================] - 9s 90ms/step - loss: 0.8250 - accuracy: 0.7125 - val_loss: 0.9292 - val_accuracy: 0.6776\n",
      "Epoch 21/50\n",
      "98/98 [==============================] - 9s 88ms/step - loss: 0.8038 - accuracy: 0.7215 - val_loss: 0.9044 - val_accuracy: 0.6871\n",
      "Epoch 22/50\n",
      "98/98 [==============================] - 9s 94ms/step - loss: 0.7861 - accuracy: 0.7259 - val_loss: 0.8938 - val_accuracy: 0.6936\n",
      "Epoch 23/50\n",
      "98/98 [==============================] - 9s 96ms/step - loss: 0.7705 - accuracy: 0.7319 - val_loss: 0.8984 - val_accuracy: 0.6906\n",
      "Epoch 24/50\n",
      "98/98 [==============================] - 9s 94ms/step - loss: 0.7511 - accuracy: 0.7392 - val_loss: 0.8942 - val_accuracy: 0.6930\n",
      "Epoch 25/50\n",
      "98/98 [==============================] - 9s 93ms/step - loss: 0.7363 - accuracy: 0.7450 - val_loss: 0.8655 - val_accuracy: 0.7020\n",
      "Epoch 26/50\n",
      "98/98 [==============================] - 9s 88ms/step - loss: 0.7232 - accuracy: 0.7496 - val_loss: 0.8737 - val_accuracy: 0.7042\n",
      "Epoch 27/50\n",
      "98/98 [==============================] - 9s 87ms/step - loss: 0.7228 - accuracy: 0.7494 - val_loss: 0.9129 - val_accuracy: 0.6890\n",
      "Epoch 28/50\n",
      "98/98 [==============================] - 9s 88ms/step - loss: 0.6972 - accuracy: 0.7589 - val_loss: 0.8552 - val_accuracy: 0.7083\n",
      "Epoch 29/50\n",
      "98/98 [==============================] - 9s 89ms/step - loss: 0.6939 - accuracy: 0.7586 - val_loss: 0.8457 - val_accuracy: 0.7112\n",
      "Epoch 30/50\n",
      "98/98 [==============================] - 8s 86ms/step - loss: 0.6793 - accuracy: 0.7646 - val_loss: 0.8772 - val_accuracy: 0.6953\n",
      "Epoch 31/50\n",
      "98/98 [==============================] - 9s 90ms/step - loss: 0.6702 - accuracy: 0.7683 - val_loss: 0.8436 - val_accuracy: 0.7103\n",
      "Epoch 32/50\n",
      "98/98 [==============================] - 9s 94ms/step - loss: 0.6602 - accuracy: 0.7703 - val_loss: 0.8463 - val_accuracy: 0.7142\n",
      "Epoch 33/50\n",
      "98/98 [==============================] - 9s 90ms/step - loss: 0.6507 - accuracy: 0.7735 - val_loss: 0.8526 - val_accuracy: 0.7113\n",
      "Epoch 34/50\n",
      "98/98 [==============================] - 9s 89ms/step - loss: 0.6360 - accuracy: 0.7824 - val_loss: 0.8468 - val_accuracy: 0.7148\n",
      "Epoch 35/50\n",
      "98/98 [==============================] - 9s 93ms/step - loss: 0.6273 - accuracy: 0.7840 - val_loss: 0.8609 - val_accuracy: 0.7118\n",
      "Epoch 36/50\n",
      "98/98 [==============================] - 9s 89ms/step - loss: 0.6127 - accuracy: 0.7875 - val_loss: 0.8614 - val_accuracy: 0.7108\n",
      "Epoch 37/50\n",
      "98/98 [==============================] - 9s 88ms/step - loss: 0.6029 - accuracy: 0.7921 - val_loss: 0.8395 - val_accuracy: 0.7174\n",
      "Epoch 38/50\n",
      "98/98 [==============================] - 9s 95ms/step - loss: 0.5962 - accuracy: 0.7938 - val_loss: 0.8445 - val_accuracy: 0.7210\n",
      "Epoch 39/50\n",
      "98/98 [==============================] - 9s 90ms/step - loss: 0.5825 - accuracy: 0.7987 - val_loss: 0.8493 - val_accuracy: 0.7152\n",
      "Epoch 40/50\n",
      "98/98 [==============================] - 9s 92ms/step - loss: 0.5754 - accuracy: 0.8009 - val_loss: 0.8627 - val_accuracy: 0.7123\n",
      "Epoch 41/50\n",
      "98/98 [==============================] - 9s 94ms/step - loss: 0.5693 - accuracy: 0.8024 - val_loss: 0.8853 - val_accuracy: 0.7100\n",
      "Epoch 42/50\n",
      "98/98 [==============================] - 9s 94ms/step - loss: 0.5658 - accuracy: 0.8019 - val_loss: 0.8353 - val_accuracy: 0.7213\n",
      "Epoch 43/50\n",
      "98/98 [==============================] - 9s 96ms/step - loss: 0.5470 - accuracy: 0.8104 - val_loss: 0.8809 - val_accuracy: 0.7104\n",
      "Epoch 44/50\n",
      "98/98 [==============================] - 9s 87ms/step - loss: 0.5394 - accuracy: 0.8130 - val_loss: 0.8840 - val_accuracy: 0.7113\n",
      "Epoch 45/50\n",
      "98/98 [==============================] - 9s 96ms/step - loss: 0.5306 - accuracy: 0.8161 - val_loss: 0.8821 - val_accuracy: 0.7117\n",
      "Epoch 46/50\n",
      "98/98 [==============================] - 9s 94ms/step - loss: 0.5212 - accuracy: 0.8208 - val_loss: 0.8526 - val_accuracy: 0.7213\n",
      "Epoch 47/50\n",
      "98/98 [==============================] - 10s 98ms/step - loss: 0.5165 - accuracy: 0.8201 - val_loss: 0.8843 - val_accuracy: 0.7177\n",
      "Epoch 48/50\n",
      "98/98 [==============================] - 9s 93ms/step - loss: 0.5082 - accuracy: 0.8215 - val_loss: 0.8845 - val_accuracy: 0.7146\n",
      "Epoch 49/50\n",
      "98/98 [==============================] - 9s 89ms/step - loss: 0.4968 - accuracy: 0.8275 - val_loss: 0.8749 - val_accuracy: 0.7190\n",
      "Epoch 50/50\n",
      "98/98 [==============================] - 9s 90ms/step - loss: 0.4823 - accuracy: 0.8337 - val_loss: 0.8960 - val_accuracy: 0.7154\n"
     ]
    },
    {
     "name": "stderr",
     "output_type": "stream",
     "text": [
      "100%|███████████████████████████████████████████████████████████████████████████████████████████████████████| 100/100 [14:40<00:00,  8.80s/it]\n",
      "100%|███████████████████████████████████████████████████████████████████████████████████████████████████████| 100/100 [16:50<00:00, 10.11s/it]\n",
      "100%|███████████████████████████████████████████████████████████████████████████████████████████████████████| 100/100 [12:17<00:00,  7.37s/it]\n"
     ]
    }
   ],
   "source": [
    "epochs_fine_tune = 3\n",
    "epochs_training = 50\n",
    "epochs_online = 100\n",
    "\n",
    "list_results_optwin = []\n",
    "list_results_adwin = []\n",
    "list_results_no_detector=[]\n",
    "histories = []\n",
    "\n",
    "itt = 3\n",
    "for i in range(itt):\n",
    "    tf.random.set_seed(i)\n",
    "    results_optwin, results_adwin, results_no_detector, history = test(epochs_training=epochs_training, epochs=epochs_online,epochs_fine_tune=epochs_fine_tune)\n",
    "    list_results_optwin.append(results_optwin)\n",
    "    list_results_adwin.append(results_adwin)\n",
    "    list_results_no_detector.append(results_no_detector)\n",
    "    histories.append(history)"
   ]
  },
  {
   "cell_type": "code",
   "execution_count": 19,
   "id": "5c76c66d-e468-4ab3-b40b-6a9bacc69cbe",
   "metadata": {
    "tags": []
   },
   "outputs": [],
   "source": [
    "SAVE_DIR=OPTWIN_DIR+\"/OPTWIN/ANN-experiments/results/\""
   ]
  },
  {
   "cell_type": "code",
   "execution_count": 20,
   "id": "064e92b6-bed1-44b0-b8e1-8599384066cc",
   "metadata": {},
   "outputs": [
    {
     "name": "stderr",
     "output_type": "stream",
     "text": [
      "WARNING:absl:Found untraced functions such as _jit_compiled_convolution_op, _jit_compiled_convolution_op, _jit_compiled_convolution_op while saving (showing 3 of 3). These functions will not be directly callable after loading.\n"
     ]
    },
    {
     "name": "stdout",
     "output_type": "stream",
     "text": [
      "INFO:tensorflow:Assets written to: ram://3a2bc343-83ed-4ab2-8aed-b51213f89626/assets\n"
     ]
    },
    {
     "name": "stderr",
     "output_type": "stream",
     "text": [
      "INFO:tensorflow:Assets written to: ram://3a2bc343-83ed-4ab2-8aed-b51213f89626/assets\n",
      "WARNING:absl:Found untraced functions such as _jit_compiled_convolution_op, _jit_compiled_convolution_op, _jit_compiled_convolution_op while saving (showing 3 of 3). These functions will not be directly callable after loading.\n"
     ]
    },
    {
     "name": "stdout",
     "output_type": "stream",
     "text": [
      "INFO:tensorflow:Assets written to: ram://813b9c3a-146c-41b1-934c-1327ab46017f/assets\n"
     ]
    },
    {
     "name": "stderr",
     "output_type": "stream",
     "text": [
      "INFO:tensorflow:Assets written to: ram://813b9c3a-146c-41b1-934c-1327ab46017f/assets\n",
      "WARNING:absl:Found untraced functions such as _jit_compiled_convolution_op, _jit_compiled_convolution_op, _jit_compiled_convolution_op while saving (showing 3 of 3). These functions will not be directly callable after loading.\n"
     ]
    },
    {
     "name": "stdout",
     "output_type": "stream",
     "text": [
      "INFO:tensorflow:Assets written to: ram://1645be0e-a738-4821-b072-5c7297dac0c7/assets\n"
     ]
    },
    {
     "name": "stderr",
     "output_type": "stream",
     "text": [
      "INFO:tensorflow:Assets written to: ram://1645be0e-a738-4821-b072-5c7297dac0c7/assets\n"
     ]
    }
   ],
   "source": [
    "with open(SAVE_DIR+'list_results_optwin.pickle', 'wb') as handle:\n",
    "    pickle.dump(list_results_optwin, handle, protocol=pickle.HIGHEST_PROTOCOL)\n",
    "\n",
    "with open(SAVE_DIR+'list_results_adwin.pickle', 'wb') as handle:\n",
    "    pickle.dump(list_results_adwin, handle, protocol=pickle.HIGHEST_PROTOCOL)\n",
    "    \n",
    "with open(SAVE_DIR+'list_results_no_detector.pickle', 'wb') as handle:\n",
    "    pickle.dump(list_results_no_detector, handle, protocol=pickle.HIGHEST_PROTOCOL)\n",
    "    \n",
    "with open(SAVE_DIR+'histories.pickle', 'wb') as handle:\n",
    "    pickle.dump(histories, handle, protocol=pickle.HIGHEST_PROTOCOL)\n"
   ]
  },
  {
   "cell_type": "markdown",
   "id": "3d5a5505-cf01-4ae5-8edb-4cc968a374ae",
   "metadata": {
    "jp-MarkdownHeadingCollapsed": true,
    "tags": []
   },
   "source": [
    "# Training 1 time"
   ]
  },
  {
   "cell_type": "markdown",
   "id": "c29a79a3-ab6a-4137-8c34-0aec16e57c33",
   "metadata": {
    "tags": []
   },
   "source": [
    "### Pre-Trains 50 epochs. Then, predict for 100 epochs, while retraining per 3 epochs after each concept drift"
   ]
  },
  {
   "cell_type": "code",
   "execution_count": null,
   "id": "bc8ef76a-f452-4bca-aa8f-01d8a8450104",
   "metadata": {},
   "outputs": [],
   "source": [
    "#Compile model\n",
    "cifar = Cifar()\n",
    "\n",
    "cifar.compile(optimizer=tf.keras.optimizers.Adam(),\n",
    "              loss=tf.keras.losses.SparseCategoricalCrossentropy(from_logits=True),\n",
    "              metrics=['accuracy'],\n",
    "              experimental_run_tf_function=False)"
   ]
  },
  {
   "cell_type": "code",
   "execution_count": null,
   "id": "7958d84d-27c1-41cb-b837-9be172a927a1",
   "metadata": {
    "tags": []
   },
   "outputs": [],
   "source": [
    "# Pre-train model\n",
    "history = cifar.fit(train_images, train_labels, batch_size=512, epochs=50, \n",
    "                    validation_data=(test_images, test_labels),verbose=1, shuffle=True)"
   ]
  },
  {
   "cell_type": "code",
   "execution_count": null,
   "id": "25c5367b-bb28-42ff-8970-ff8e9b528366",
   "metadata": {},
   "outputs": [],
   "source": [
    "FOLDER_TO_MODEL=\"ANN-experiments/results/\""
   ]
  },
  {
   "cell_type": "code",
   "execution_count": null,
   "id": "3d52841b-32cb-40a4-a03e-8ddbaac94c32",
   "metadata": {},
   "outputs": [],
   "source": [
    "cifar.save(FOLDER_TO_MODEL+'cifar_pre_trained_model.tf', save_format=\"tf\")"
   ]
  },
  {
   "cell_type": "markdown",
   "id": "97fd5b82-0bc4-4bf2-8acc-8840ac67e9d4",
   "metadata": {
    "tags": []
   },
   "source": [
    "### Load pre-trained model"
   ]
  },
  {
   "cell_type": "code",
   "execution_count": null,
   "id": "bee2b776-afd0-4f87-a287-32d8e96b222e",
   "metadata": {},
   "outputs": [],
   "source": [
    "FOLDER_TO_MODEL=\"ANN-experiments/results/\"\n",
    "cifar = tf.keras.models.load_model(FOLDER_TO_MODEL+'cifar_pre_trained_model.tf')"
   ]
  },
  {
   "cell_type": "markdown",
   "id": "02fb9ac8-6b26-4542-bf85-9c086d601ed9",
   "metadata": {
    "tags": []
   },
   "source": [
    "### Fine-tune"
   ]
  },
  {
   "cell_type": "code",
   "execution_count": null,
   "id": "5e99e9c0-a518-4186-b218-5cf3f508fd8b",
   "metadata": {},
   "outputs": [],
   "source": [
    "def fine_tune_cifar(model, drift_detector, epochs, epochs_fine_tune, train_images, train_labels_list, test_images, test_labels_list):\n",
    "    #copy model\n",
    "    model_copy = Cifar()\n",
    "    model_copy.compile(optimizer=tf.keras.optimizers.Adam(),\n",
    "              loss=tf.keras.losses.SparseCategoricalCrossentropy(from_logits=True),\n",
    "              metrics=['accuracy'],\n",
    "              experimental_run_tf_function=False)\n",
    "    model_copy.build((None, 32, 32, 3))\n",
    "    model_copy.set_weights(model.get_weights())\n",
    "    \n",
    "    #fine-tune model_copy\n",
    "    current_labels_idx = 0\n",
    "    last_labels_idx = 0\n",
    "    epochs_per_drift = int(epochs/len(train_labels_list))\n",
    "    count = 0\n",
    "    instances_fine_tune = 0\n",
    "    losses = []\n",
    "    accs = []\n",
    "    drifts = []\n",
    "    evaluation = []\n",
    "    training_instances = 0\n",
    "    time_per_epoch = []\n",
    "    itt = 0\n",
    "    real_drift = []\n",
    "    time_drift_detector = []\n",
    "    \n",
    "    #start fine-tuning\n",
    "    for e in tqdm(range(epochs)):\n",
    "        time_start = time.time()\n",
    "        current_labels_idx = int(e/epochs_per_drift) #change labels (generate drift) every epochs_per_drift epochs\n",
    "        evaluation.append([e,model_copy.evaluate(test_images, test_labels_list[current_labels_idx],batch_size=32,verbose=0)])\n",
    "        \n",
    "        training_examples = list(zip(train_images, train_labels_list[current_labels_idx]))\n",
    "        random.seed(e)\n",
    "        random.shuffle(training_examples)\n",
    "        \n",
    "        for images,labels in training_examples:\n",
    "        #for images,labels in zip(train_images, train_labels_list[current_labels_idx]):\n",
    "            \n",
    "            #train (during drift adaptation)\n",
    "            if instances_fine_tune > 0: \n",
    "                instances_fine_tune -= 1\n",
    "                training_instances += 1\n",
    "                loss, acc = model_copy.train_on_batch(images, labels)\n",
    "                \n",
    "            #test (no drift)\n",
    "            else: \n",
    "                loss, acc = model_copy.test_on_batch(images, labels)\n",
    "            \n",
    "            #normalize loss for ADWIN\n",
    "            if isinstance(drift_detector, drift.adwin.ADWIN):\n",
    "                loss_scaled = loss/16.12\n",
    "                if loss_scaled > 1:\n",
    "                    loss_scaled = 1\n",
    "            else:\n",
    "                loss_scaled = loss\n",
    "            \n",
    "            time_start_drift_detector=time.time()\n",
    "            drift_detector.update(loss_scaled)\n",
    "            time_drift_detector.append(time.time()-time_start_drift_detector)\n",
    "            \n",
    "            if drift_detector.drift_detected:\n",
    "                drifts.append(itt)\n",
    "                instances_fine_tune = len(train_images) * epochs_fine_tune\n",
    "\n",
    "            #check for real drift\n",
    "            if current_labels_idx != last_labels_idx: \n",
    "                real_drift.append(itt)\n",
    "                last_labels_idx = current_labels_idx\n",
    "                \n",
    "            losses.append(loss)\n",
    "            accs.append(acc)\n",
    "            count += 1\n",
    "            itt += 1\n",
    "        count = 0\n",
    "        evaluation.append([e,model_copy.evaluate(test_images, test_labels_list[current_labels_idx],batch_size=32,verbose=0)])\n",
    "        time_per_epoch.append([e , time.time() - time_start])\n",
    "        \n",
    "        \n",
    "    #detect true and false positives\n",
    "    tp = []\n",
    "    fp = []\n",
    "    for d in range(len(drifts)):\n",
    "        drift_positive = False\n",
    "        for rd in range(len(real_drift)):\n",
    "            if d == 0:\n",
    "                if len(real_drift) == rd+1: \n",
    "                    if drifts[d] >= real_drift[rd] and drifts[d] < real_drift[rd+1]:\n",
    "                        drift_positive = True\n",
    "                else:\n",
    "                    if drifts[d] >= real_drift[rd]:\n",
    "                        drift_positive = True\n",
    "                    \n",
    "            else:\n",
    "                if len(real_drift) == rd+1: \n",
    "                    if drifts[d] >= real_drift[rd] and drifts[d-1] < real_drift[rd]:\n",
    "                        drift_positive = True\n",
    "\n",
    "                else:\n",
    "                    if drifts[d] >= real_drift[rd] and drifts[d] < real_drift[rd+1] and drifts[d-1] < real_drift[rd]:\n",
    "                        drift_positive = True\n",
    "            \n",
    "        if drift_positive:\n",
    "            tp.append(drifts[d])\n",
    "        else:\n",
    "            fp.append(drifts[d])\n",
    "        \n",
    "        \n",
    "        \n",
    "    \n",
    "    return drifts, losses, accs, evaluation, training_instances, time_per_epoch, real_drift, time_drift_detector, tp, fp\n",
    "    "
   ]
  },
  {
   "cell_type": "code",
   "execution_count": null,
   "id": "84cac722-9fb1-4d42-8685-243c57f03def",
   "metadata": {},
   "outputs": [],
   "source": [
    "epochs=100\n",
    "epochs_fine_tune = 3\n",
    "train_labels_list=[train_labels_0_final,train_labels_1_final,train_labels_2_final,train_labels_3_final,train_labels_4_final]\n",
    "test_labels_list=[test_labels,test_labels_1,test_labels_2,test_labels_3,test_labels_4]"
   ]
  },
  {
   "cell_type": "markdown",
   "id": "b5c60f32-b4ce-4d44-a2a0-b38367ec62b0",
   "metadata": {
    "tags": []
   },
   "source": [
    "### 1 iteration of training"
   ]
  },
  {
   "cell_type": "markdown",
   "id": "e02fc9ff-7b60-4142-9361-14a9eb105100",
   "metadata": {
    "tags": []
   },
   "source": [
    "#### OPTWIN"
   ]
  },
  {
   "cell_type": "code",
   "execution_count": null,
   "id": "5f4f2078-eb88-4593-86fb-9866df87af9e",
   "metadata": {
    "tags": []
   },
   "outputs": [],
   "source": [
    "opt = Optwin_river(w_lenght_max=max_samples+1, w_lenght_min=w_lenght_min+1, rigor = rigor, confidence_final=confidence_final, opt_cut=opt_cut, opt_phi=opt_phi, t_stats=t_stats, t_stats_warning=t_stats_warning)\n",
    "results_optwin = fine_tune_cifar(cifar, opt, epochs, epochs_fine_tune, train_images_final, train_labels_list, test_images, test_labels_list)"
   ]
  },
  {
   "cell_type": "markdown",
   "id": "de158274-a94f-4eba-b152-5245b908b83b",
   "metadata": {},
   "source": [
    "#### ADWIN"
   ]
  },
  {
   "cell_type": "code",
   "execution_count": null,
   "id": "d8823fcf-a42b-4d45-be7f-8636114911ab",
   "metadata": {
    "tags": []
   },
   "outputs": [],
   "source": [
    "adwin = drift.ADWIN()\n",
    "results_adwin = fine_tune_cifar(cifar, adwin, epochs, epochs_fine_tune, train_images_final, train_labels_list, test_images, test_labels_list)"
   ]
  },
  {
   "cell_type": "markdown",
   "id": "842219bd-59d8-40cd-a0e0-a905764a05fc",
   "metadata": {
    "tags": []
   },
   "source": [
    "#### No detector (no drift)"
   ]
  },
  {
   "cell_type": "code",
   "execution_count": null,
   "id": "67e152e7-f6ac-4e00-a977-72f05e56c777",
   "metadata": {
    "tags": []
   },
   "outputs": [],
   "source": [
    "no_detector = No_detector()\n",
    "results_no = fine_tune_cifar(cifar, no_detector, epochs, epochs_fine_tune, train_images_final, train_labels_list, test_images, test_labels_list)"
   ]
  }
 ],
 "metadata": {
  "kernelspec": {
   "display_name": "Python 3 (ipykernel)",
   "language": "python",
   "name": "python3"
  },
  "language_info": {
   "codemirror_mode": {
    "name": "ipython",
    "version": 3
   },
   "file_extension": ".py",
   "mimetype": "text/x-python",
   "name": "python",
   "nbconvert_exporter": "python",
   "pygments_lexer": "ipython3",
   "version": "3.9.4"
  }
 },
 "nbformat": 4,
 "nbformat_minor": 5
}
