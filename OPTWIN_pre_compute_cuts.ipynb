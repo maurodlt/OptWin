{
 "cells": [
  {
   "cell_type": "code",
   "execution_count": 1,
   "id": "6efdc3c6-8c51-4e84-9afe-faf13c896f75",
   "metadata": {},
   "outputs": [],
   "source": [
    "from OPTWIN import Optwin_river\n",
    "from itertools import product"
   ]
  },
  {
   "cell_type": "markdown",
   "id": "38e2b255-d542-4eeb-ab3f-1219e35250fa",
   "metadata": {},
   "source": [
    "## Save cuts"
   ]
  },
  {
   "cell_type": "code",
   "execution_count": 2,
   "id": "3fdad3b7-c1e8-44f4-9e10-121cfd1c79e0",
   "metadata": {},
   "outputs": [],
   "source": [
    "OPTWIN_DIR=\"\"\n",
    "FILE_TO_SAVE=OPTWIN_DIR+\"/pre_computed_cuts/\""
   ]
  },
  {
   "cell_type": "code",
   "execution_count": 3,
   "id": "8254e0a7-cedf-4103-81ee-5299f88f709f",
   "metadata": {},
   "outputs": [],
   "source": [
    "def save_cuts(rigor = 0.05, error = 1e-3, w_lenght_min=30, max_samples = 50000):\n",
    "    confidence_final = 1-error\n",
    "\n",
    "    #init optwin \n",
    "    optwin = Optwin_river(w_lenght_max=max_samples+1, w_lenght_min=w_lenght_min, rigor = rigor, confidence_final=confidence_final)\n",
    "    \n",
    "    #pre-compute cuts\n",
    "    opt_cut = []\n",
    "    opt_phi = []\n",
    "    t_stats = []\n",
    "    t_stats_warning= []\n",
    "    opt_cut, opt_phi, t_stats, t_stats_warning = optwin.pre_compute_cuts(opt_cut, opt_phi, t_stats, t_stats_warning)\n",
    "    \n",
    "    #save cuts\n",
    "    f = open(FILE_TO_SAVE+\"cut_\"+str(w_lenght_min)+\"-\"+str(max_samples)+\"_\"+str(error)+\"_\"+str(rigor)+\"r.csv\", \"w\")\n",
    "    f.write(str(confidence_final)+\",\"+str(rigor)+\",\"+ str(max_samples) + \",\" +str(w_lenght_min))\n",
    "    for i in opt_cut:\n",
    "        f.write(\",\"+str(i))\n",
    "\n",
    "    for i in opt_phi:\n",
    "        f.write(\",\"+str(i))\n",
    "    \n",
    "    for i in t_stats:\n",
    "        f.write(\",\"+str(i))\n",
    "    \n",
    "    for i in t_stats_warning:\n",
    "        f.write(\",\"+str(i))\n",
    "    f.close()  \n",
    "    \n",
    "    return {'rigor': rigor, 'error': error, 'max_samples':max_samples, 'opt_cut':opt_cut, 'opt_phi': opt_phi, 't_stats': t_stats, 't_stats_warning': t_stats_warning}"
   ]
  },
  {
   "cell_type": "code",
   "execution_count": 4,
   "id": "2ce0e3e9-e6b2-434f-a36f-91b7a6e626ce",
   "metadata": {},
   "outputs": [],
   "source": [
    "w_lenght_min=[30]\n",
    "max_samples=[10000,25000,50000]\n",
    "error=[0.01, 0.001, 0.0001]\n",
    "rigors = [0.1, 0.5, 1.0]"
   ]
  },
  {
   "cell_type": "code",
   "execution_count": null,
   "id": "945ff28c-7320-4dad-8d17-172218da4a96",
   "metadata": {},
   "outputs": [],
   "source": [
    "for w_min,w_max,e,r in product(w_lenght_min, max_samples, error, rigors):\n",
    "    print(w_min,w_max,e,r)\n",
    "    save_cuts(r,e,w_min,w_max)"
   ]
  },
  {
   "cell_type": "code",
   "execution_count": null,
   "id": "7fcf3c4a-c1e9-430d-8120-4e21ae9d2ca0",
   "metadata": {},
   "outputs": [],
   "source": []
  }
 ],
 "metadata": {
  "kernelspec": {
   "display_name": "Python 3 (ipykernel)",
   "language": "python",
   "name": "python3"
  },
  "language_info": {
   "codemirror_mode": {
    "name": "ipython",
    "version": 3
   },
   "file_extension": ".py",
   "mimetype": "text/x-python",
   "name": "python",
   "nbconvert_exporter": "python",
   "pygments_lexer": "ipython3",
   "version": "3.9.4"
  }
 },
 "nbformat": 4,
 "nbformat_minor": 5
}
